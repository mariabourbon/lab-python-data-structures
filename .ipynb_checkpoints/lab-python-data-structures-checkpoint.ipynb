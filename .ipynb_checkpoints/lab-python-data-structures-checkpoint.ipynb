{
 "cells": [
  {
   "cell_type": "markdown",
   "metadata": {
    "tags": []
   },
   "source": [
    "# Lab | Data Structures "
   ]
  },
  {
   "cell_type": "markdown",
   "metadata": {},
   "source": [
    "## Exercise: Managing Customer Orders\n",
    "\n",
    "As part of a business venture, you are starting an online store that sells various products. To ensure smooth operations, you need to develop a program that manages customer orders and inventory.\n",
    "\n",
    "Follow the steps below to complete the exercise:\n",
    "\n",
    "1. Define a list called `products` that contains the following items: \"t-shirt\", \"mug\", \"hat\", \"book\", \"keychain\".\n",
    "\n",
    "2. Create an empty dictionary called `inventory`.\n",
    "\n",
    "3. Ask the user to input the quantity of each product available in the inventory. Use the product names from the `products` list as keys in the `inventory` dictionary and assign the respective quantities as values.\n",
    "\n",
    "4. Create an empty set called `customer_orders`.\n",
    "\n",
    "5. Ask the user to input the name of three products that a customer wants to order (from those in the products list, meaning three products out of \"t-shirt\", \"mug\", \"hat\", \"book\" or \"keychain\". Add each product name to the `customer_orders` set.\n",
    "\n",
    "6. Print the products in the `customer_orders` set.\n",
    "\n",
    "7. Calculate the following order statistics:\n",
    "   - Total Products Ordered: The total number of products in the `customer_orders` set.\n",
    "   - Percentage of Products Ordered: The percentage of products ordered compared to the total available products.\n",
    "   \n",
    "   Store these statistics in a tuple called `order_status`.\n",
    "\n",
    "8. Print the order statistics using the following format:\n",
    "   ```\n",
    "   Order Statistics:\n",
    "   Total Products Ordered: <total_products_ordered>\n",
    "   Percentage of Products Ordered: <percentage_ordered>% \n",
    "   ```\n",
    "\n",
    "9. Update the inventory by subtracting 1 from the quantity of each product. Modify the `inventory` dictionary accordingly.\n",
    "\n",
    "10. Print the updated inventory, displaying the quantity of each product on separate lines.\n",
    "\n",
    "Solve the exercise by implementing the steps using the Python concepts of lists, dictionaries, sets, and basic input/output operations. "
   ]
  },
  {
   "cell_type": "code",
   "execution_count": 1,
   "metadata": {},
   "outputs": [
    {
     "name": "stdout",
     "output_type": "stream",
     "text": [
      "quantatity of t-shirt available in the inventory:5\n",
      "quantatity of mug available in the inventory:4\n",
      "quantatity of hat avilable in the inventory:3\n",
      "quantatity of books available in the inventory:2\n",
      "quantatity of keychain available in the inventory:1\n"
     ]
    }
   ],
   "source": [
    "products = [\"t-shirt\",\"mug\",\"hat\",\"book\",\"keychain\"] #define a list\n",
    "inventory = {} #create a empty dictionary\n",
    "tshirt_numb = int(input(\"quantatity of t-shirt available in the inventory:\"))\n",
    "mug_numb = int(input(\"quantatity of mug available in the inventory:\"))\n",
    "hat_numb = int(input(\"quantatity of hat avilable in the inventory:\"))\n",
    "books_numb = int(input(\"quantatity of books available in the inventory:\"))\n",
    "keychain_numb = int(input(\"quantatity of keychain available in the inventory:\"))"
   ]
  },
  {
   "cell_type": "code",
   "execution_count": 2,
   "metadata": {},
   "outputs": [
    {
     "name": "stdout",
     "output_type": "stream",
     "text": [
      "Initial inventory {'t-shirt': 5, 'mug': 4, 'hat': 3, 'book': 2, 'keychain': 1}\n"
     ]
    }
   ],
   "source": [
    "#input the quantatity of each available product:\")\n",
    "inventory[products[0]]=tshirt_numb \n",
    "inventory[products[1]]=mug_numb \n",
    "inventory[products[2]]=hat_numb \n",
    "inventory[products[3]]=books_numb \n",
    "inventory[products[4]]=keychain_numb \n",
    "print(\"Initial inventory\",inventory) #product names as keys and quantities as values"
   ]
  },
  {
   "cell_type": "code",
   "execution_count": 3,
   "metadata": {},
   "outputs": [
    {
     "name": "stdout",
     "output_type": "stream",
     "text": [
      "choose a product:hat\n",
      "choose a product:mug\n",
      "choose a product:keychain\n"
     ]
    }
   ],
   "source": [
    "customers_orders = set() #empty set \n",
    "product1 = input(\"choose a product:\") #input three products\n",
    "product2 = input(\"choose a product:\")\n",
    "product3 = input(\"choose a product:\")\n"
   ]
  },
  {
   "cell_type": "code",
   "execution_count": 4,
   "metadata": {},
   "outputs": [
    {
     "name": "stdout",
     "output_type": "stream",
     "text": [
      "Customer's Orders {'mug', 'hat', 'keychain'}\n"
     ]
    }
   ],
   "source": [
    "customers_orders.add(product1) #add the products to the set\n",
    "customers_orders.add(product2)\n",
    "customers_orders.add(product3)\n",
    "print(\"Customer's Orders\",customers_orders)"
   ]
  },
  {
   "cell_type": "code",
   "execution_count": 5,
   "metadata": {},
   "outputs": [
    {
     "name": "stdout",
     "output_type": "stream",
     "text": [
      "Order Statistics:\n",
      "Total Products Ordered: 3\n",
      "Percentage of Products Ordered: 20.0 %\n"
     ]
    }
   ],
   "source": [
    "#Statistics:\n",
    "print(\"Order Statistics:\")\n",
    "print(\"Total Products Ordered:\",len(customers_orders)) #total products orders\n",
    "available_products = int(tshirt_numb) + int(mug_numb) + int(hat_numb) + int(books_numb) + int(keychain_numb)\n",
    "ordered_products = len(customers_orders)\n",
    "print(\"Percentage of Products Ordered:\",(ordered_products/available_products*100),\"%\")"
   ]
  },
  {
   "cell_type": "code",
   "execution_count": 6,
   "metadata": {},
   "outputs": [
    {
     "name": "stdout",
     "output_type": "stream",
     "text": [
      "{'t-shirt': 4, 'mug': 3, 'hat': 2, 'book': 1, 'keychain': 0}\n"
     ]
    }
   ],
   "source": [
    "#Update the inventory \n",
    "for product in inventory:\n",
    "    inventory[product] -=1\n",
    "print(inventory)"
   ]
  },
  {
   "cell_type": "code",
   "execution_count": 7,
   "metadata": {},
   "outputs": [
    {
     "name": "stdout",
     "output_type": "stream",
     "text": [
      "Updated Inventory:\n",
      "t-shirt:4\n",
      "mug:3\n",
      "hat:2\n",
      "book:1\n",
      "keychain:0\n"
     ]
    }
   ],
   "source": [
    "#Print the updated inventory, displaying the quantity of each product on separate lines.\n",
    "print(\"Updated Inventory:\")\n",
    "for product, quantity in inventory.items():\n",
    "    print(f\"{product}:{quantity}\")"
   ]
  },
  {
   "cell_type": "code",
   "execution_count": null,
   "metadata": {},
   "outputs": [],
   "source": []
  }
 ],
 "metadata": {
  "kernelspec": {
   "display_name": "Python 3 (ipykernel)",
   "language": "python",
   "name": "python3"
  },
  "language_info": {
   "codemirror_mode": {
    "name": "ipython",
    "version": 3
   },
   "file_extension": ".py",
   "mimetype": "text/x-python",
   "name": "python",
   "nbconvert_exporter": "python",
   "pygments_lexer": "ipython3",
   "version": "3.11.5"
  }
 },
 "nbformat": 4,
 "nbformat_minor": 4
}
